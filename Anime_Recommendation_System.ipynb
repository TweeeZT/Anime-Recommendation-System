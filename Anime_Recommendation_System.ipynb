{
  "cells": [
    {
      "cell_type": "markdown",
      "metadata": {
        "id": "hssSDn-5n3HR"
      },
      "source": [
        "\n",
        "\n",
        "# Laporan Proyek Machine Learning - Cahya Abdurrahman\n",
        " Dataset yang digunakan dalam proyek ini adalah \"Anime Recommendations Database\". Dataset ini merupakan kumpulan anime dari MyAnimeList yang berisi 12064 anime. Dataset ini memiliki 7 kolom dan 12064 baris. Data ini akan dibuat model rekomendasi anime menggunakan content based filtering.\n",
        "   \n"
      ]
    },
    {
      "cell_type": "markdown",
      "metadata": {
        "id": "fKADPWcFKlj3"
      },
      "source": [
        "# **Import Library**"
      ]
    },
    {
      "cell_type": "markdown",
      "metadata": {
        "id": "LgA3ERnVn84N"
      },
      "source": [
        "Pada tahap ini, kita perlu mengimpor beberapa pustaka (library) Python yang dibutuhkan untuk pembangunan model rekomendasi"
      ]
    },
    {
      "cell_type": "code",
      "execution_count": 1,
      "metadata": {
        "id": "BlmvjLY9M4Yj"
      },
      "outputs": [],
      "source": [
        "import os\n",
        "import pandas as pd\n",
        "import numpy as np\n",
        "import seaborn as sns\n",
        "import matplotlib.pyplot as plt\n",
        "\n",
        "from sklearn.feature_extraction.text import TfidfVectorizer\n",
        "from sklearn.metrics.pairwise import cosine_similarity\n"
      ]
    },
    {
      "cell_type": "markdown",
      "metadata": {
        "id": "f3YIEnAFKrKL"
      },
      "source": [
        "# **Load Dataset**"
      ]
    },
    {
      "cell_type": "code",
      "execution_count": 2,
      "metadata": {
        "colab": {
          "base_uri": "https://localhost:8080/",
          "height": 290
        },
        "id": "GHCGNTyrM5fS",
        "outputId": "a296438a-84a7-4e9c-a513-c853eb467a17"
      },
      "outputs": [],
      "source": [
        "anime_df = pd.read_csv('anime.csv')\n",
        "rating_df = pd.read_csv('rating.csv')"
      ]
    },
    {
      "cell_type": "code",
      "execution_count": 3,
      "metadata": {},
      "outputs": [
        {
          "data": {
            "text/html": [
              "<div>\n",
              "<style scoped>\n",
              "    .dataframe tbody tr th:only-of-type {\n",
              "        vertical-align: middle;\n",
              "    }\n",
              "\n",
              "    .dataframe tbody tr th {\n",
              "        vertical-align: top;\n",
              "    }\n",
              "\n",
              "    .dataframe thead th {\n",
              "        text-align: right;\n",
              "    }\n",
              "</style>\n",
              "<table border=\"1\" class=\"dataframe\">\n",
              "  <thead>\n",
              "    <tr style=\"text-align: right;\">\n",
              "      <th></th>\n",
              "      <th>user_id</th>\n",
              "      <th>anime_id</th>\n",
              "      <th>rating_x</th>\n",
              "      <th>name</th>\n",
              "      <th>genre</th>\n",
              "      <th>type</th>\n",
              "      <th>episodes</th>\n",
              "      <th>rating_y</th>\n",
              "      <th>members</th>\n",
              "    </tr>\n",
              "  </thead>\n",
              "  <tbody>\n",
              "    <tr>\n",
              "      <th>0</th>\n",
              "      <td>1</td>\n",
              "      <td>20</td>\n",
              "      <td>-1</td>\n",
              "      <td>Naruto</td>\n",
              "      <td>Action, Comedy, Martial Arts, Shounen, Super P...</td>\n",
              "      <td>TV</td>\n",
              "      <td>220</td>\n",
              "      <td>7.81</td>\n",
              "      <td>683297</td>\n",
              "    </tr>\n",
              "    <tr>\n",
              "      <th>1</th>\n",
              "      <td>1</td>\n",
              "      <td>24</td>\n",
              "      <td>-1</td>\n",
              "      <td>School Rumble</td>\n",
              "      <td>Comedy, Romance, School, Shounen</td>\n",
              "      <td>TV</td>\n",
              "      <td>26</td>\n",
              "      <td>8.06</td>\n",
              "      <td>178553</td>\n",
              "    </tr>\n",
              "    <tr>\n",
              "      <th>2</th>\n",
              "      <td>1</td>\n",
              "      <td>79</td>\n",
              "      <td>-1</td>\n",
              "      <td>Shuffle!</td>\n",
              "      <td>Comedy, Drama, Ecchi, Fantasy, Harem, Magic, R...</td>\n",
              "      <td>TV</td>\n",
              "      <td>24</td>\n",
              "      <td>7.31</td>\n",
              "      <td>158772</td>\n",
              "    </tr>\n",
              "    <tr>\n",
              "      <th>3</th>\n",
              "      <td>1</td>\n",
              "      <td>226</td>\n",
              "      <td>-1</td>\n",
              "      <td>Elfen Lied</td>\n",
              "      <td>Action, Drama, Horror, Psychological, Romance,...</td>\n",
              "      <td>TV</td>\n",
              "      <td>13</td>\n",
              "      <td>7.85</td>\n",
              "      <td>623511</td>\n",
              "    </tr>\n",
              "    <tr>\n",
              "      <th>4</th>\n",
              "      <td>1</td>\n",
              "      <td>241</td>\n",
              "      <td>-1</td>\n",
              "      <td>Girls Bravo: First Season</td>\n",
              "      <td>Comedy, Ecchi, Fantasy, Harem, Romance, School</td>\n",
              "      <td>TV</td>\n",
              "      <td>11</td>\n",
              "      <td>6.69</td>\n",
              "      <td>84395</td>\n",
              "    </tr>\n",
              "  </tbody>\n",
              "</table>\n",
              "</div>"
            ],
            "text/plain": [
              "   user_id  anime_id  rating_x                       name  \\\n",
              "0        1        20        -1                     Naruto   \n",
              "1        1        24        -1              School Rumble   \n",
              "2        1        79        -1                   Shuffle!   \n",
              "3        1       226        -1                 Elfen Lied   \n",
              "4        1       241        -1  Girls Bravo: First Season   \n",
              "\n",
              "                                               genre type episodes  rating_y  \\\n",
              "0  Action, Comedy, Martial Arts, Shounen, Super P...   TV      220      7.81   \n",
              "1                   Comedy, Romance, School, Shounen   TV       26      8.06   \n",
              "2  Comedy, Drama, Ecchi, Fantasy, Harem, Magic, R...   TV       24      7.31   \n",
              "3  Action, Drama, Horror, Psychological, Romance,...   TV       13      7.85   \n",
              "4     Comedy, Ecchi, Fantasy, Harem, Romance, School   TV       11      6.69   \n",
              "\n",
              "   members  \n",
              "0   683297  \n",
              "1   178553  \n",
              "2   158772  \n",
              "3   623511  \n",
              "4    84395  "
            ]
          },
          "execution_count": 3,
          "metadata": {},
          "output_type": "execute_result"
        }
      ],
      "source": [
        "merged_df = pd.merge(rating_df, anime_df, on='anime_id')\n",
        "\n",
        "merged_df.head()\n"
      ]
    },
    {
      "cell_type": "markdown",
      "metadata": {
        "id": "EN1kRXAXn6hI"
      },
      "source": [
        "# **About Dataset**\n",
        "Dataset ini berisi informasi mengenai berbagai judul anime, termasuk genre, rating, dan tipe penayangan anime. \n",
        "\n",
        "Variabel pada dataset ini sebagai berikut:\n",
        "\n",
        "Dari ```anime.csv```\n",
        "\n",
        "**anime_id**:  ID unik untuk setiap anime.\n",
        "\n",
        "**name**:  Judul anime.\n",
        "\n",
        "**genre**: Kategori genre anime (misalnya: Action, Comedy, Drama, Fantasy).\n",
        "\n",
        "**type**: Jenis anime (TV, Movie, OVA, dll).\n",
        "\n",
        "**episodes**: Jumlah episode.\n",
        "\n",
        "**rating**:  Rata-rata rating yang diberikan pengguna.\n",
        "\n",
        "**members**: Jumlah pengguna yang telah memberi rating atau menonton anime tersebut.\n",
        "\n",
        "Dari ```rating.csv```\n",
        "\n",
        "**user_id**: ID unik pengguna.\n",
        "\n",
        "**anime_id**: ID anime yang diberi rating.\n",
        "\n",
        "**rating**: Nilai rating yang diberikan pengguna terhadap anime (skala 1–10, atau -1 jika tidak memberi rating).\n",
        "\n"
      ]
    },
    {
      "cell_type": "markdown",
      "metadata": {
        "id": "ilUWFuHNp2bB"
      },
      "source": [
        "# **Exploratory Data Analysis (EDA)**\n",
        "Proses awal dalam analisis data yang bertujuan untuk memahami struktur, karakteristik, pola, dan hubungan dalam data sebelum dilakukan pemodelan atau analisis statistik lebih lanjut."
      ]
    },
    {
      "cell_type": "markdown",
      "metadata": {},
      "source": [
        "Melihat info pada dataframe anime"
      ]
    },
    {
      "cell_type": "code",
      "execution_count": 4,
      "metadata": {},
      "outputs": [
        {
          "name": "stdout",
          "output_type": "stream",
          "text": [
            "<class 'pandas.core.frame.DataFrame'>\n",
            "RangeIndex: 12294 entries, 0 to 12293\n",
            "Data columns (total 7 columns):\n",
            " #   Column    Non-Null Count  Dtype  \n",
            "---  ------    --------------  -----  \n",
            " 0   anime_id  12294 non-null  int64  \n",
            " 1   name      12294 non-null  object \n",
            " 2   genre     12232 non-null  object \n",
            " 3   type      12269 non-null  object \n",
            " 4   episodes  12294 non-null  object \n",
            " 5   rating    12064 non-null  float64\n",
            " 6   members   12294 non-null  int64  \n",
            "dtypes: float64(1), int64(2), object(4)\n",
            "memory usage: 672.5+ KB\n"
          ]
        }
      ],
      "source": [
        "anime_df.info()"
      ]
    },
    {
      "cell_type": "markdown",
      "metadata": {},
      "source": [
        "Melihat info pada dataframe rating"
      ]
    },
    {
      "cell_type": "code",
      "execution_count": 5,
      "metadata": {},
      "outputs": [
        {
          "name": "stdout",
          "output_type": "stream",
          "text": [
            "<class 'pandas.core.frame.DataFrame'>\n",
            "RangeIndex: 7813737 entries, 0 to 7813736\n",
            "Data columns (total 3 columns):\n",
            " #   Column    Dtype\n",
            "---  ------    -----\n",
            " 0   user_id   int64\n",
            " 1   anime_id  int64\n",
            " 2   rating    int64\n",
            "dtypes: int64(3)\n",
            "memory usage: 178.8 MB\n"
          ]
        }
      ],
      "source": [
        "rating_df.info()"
      ]
    },
    {
      "cell_type": "markdown",
      "metadata": {},
      "source": [
        "Melihat 5 data pertama pada dataframe anime"
      ]
    },
    {
      "cell_type": "code",
      "execution_count": 6,
      "metadata": {},
      "outputs": [
        {
          "data": {
            "text/html": [
              "<div>\n",
              "<style scoped>\n",
              "    .dataframe tbody tr th:only-of-type {\n",
              "        vertical-align: middle;\n",
              "    }\n",
              "\n",
              "    .dataframe tbody tr th {\n",
              "        vertical-align: top;\n",
              "    }\n",
              "\n",
              "    .dataframe thead th {\n",
              "        text-align: right;\n",
              "    }\n",
              "</style>\n",
              "<table border=\"1\" class=\"dataframe\">\n",
              "  <thead>\n",
              "    <tr style=\"text-align: right;\">\n",
              "      <th></th>\n",
              "      <th>anime_id</th>\n",
              "      <th>name</th>\n",
              "      <th>genre</th>\n",
              "      <th>type</th>\n",
              "      <th>episodes</th>\n",
              "      <th>rating</th>\n",
              "      <th>members</th>\n",
              "    </tr>\n",
              "  </thead>\n",
              "  <tbody>\n",
              "    <tr>\n",
              "      <th>0</th>\n",
              "      <td>32281</td>\n",
              "      <td>Kimi no Na wa.</td>\n",
              "      <td>Drama, Romance, School, Supernatural</td>\n",
              "      <td>Movie</td>\n",
              "      <td>1</td>\n",
              "      <td>9.37</td>\n",
              "      <td>200630</td>\n",
              "    </tr>\n",
              "    <tr>\n",
              "      <th>1</th>\n",
              "      <td>5114</td>\n",
              "      <td>Fullmetal Alchemist: Brotherhood</td>\n",
              "      <td>Action, Adventure, Drama, Fantasy, Magic, Mili...</td>\n",
              "      <td>TV</td>\n",
              "      <td>64</td>\n",
              "      <td>9.26</td>\n",
              "      <td>793665</td>\n",
              "    </tr>\n",
              "    <tr>\n",
              "      <th>2</th>\n",
              "      <td>28977</td>\n",
              "      <td>Gintama°</td>\n",
              "      <td>Action, Comedy, Historical, Parody, Samurai, S...</td>\n",
              "      <td>TV</td>\n",
              "      <td>51</td>\n",
              "      <td>9.25</td>\n",
              "      <td>114262</td>\n",
              "    </tr>\n",
              "    <tr>\n",
              "      <th>3</th>\n",
              "      <td>9253</td>\n",
              "      <td>Steins;Gate</td>\n",
              "      <td>Sci-Fi, Thriller</td>\n",
              "      <td>TV</td>\n",
              "      <td>24</td>\n",
              "      <td>9.17</td>\n",
              "      <td>673572</td>\n",
              "    </tr>\n",
              "    <tr>\n",
              "      <th>4</th>\n",
              "      <td>9969</td>\n",
              "      <td>Gintama&amp;#039;</td>\n",
              "      <td>Action, Comedy, Historical, Parody, Samurai, S...</td>\n",
              "      <td>TV</td>\n",
              "      <td>51</td>\n",
              "      <td>9.16</td>\n",
              "      <td>151266</td>\n",
              "    </tr>\n",
              "  </tbody>\n",
              "</table>\n",
              "</div>"
            ],
            "text/plain": [
              "   anime_id                              name  \\\n",
              "0     32281                    Kimi no Na wa.   \n",
              "1      5114  Fullmetal Alchemist: Brotherhood   \n",
              "2     28977                          Gintama°   \n",
              "3      9253                       Steins;Gate   \n",
              "4      9969                     Gintama&#039;   \n",
              "\n",
              "                                               genre   type episodes  rating  \\\n",
              "0               Drama, Romance, School, Supernatural  Movie        1    9.37   \n",
              "1  Action, Adventure, Drama, Fantasy, Magic, Mili...     TV       64    9.26   \n",
              "2  Action, Comedy, Historical, Parody, Samurai, S...     TV       51    9.25   \n",
              "3                                   Sci-Fi, Thriller     TV       24    9.17   \n",
              "4  Action, Comedy, Historical, Parody, Samurai, S...     TV       51    9.16   \n",
              "\n",
              "   members  \n",
              "0   200630  \n",
              "1   793665  \n",
              "2   114262  \n",
              "3   673572  \n",
              "4   151266  "
            ]
          },
          "execution_count": 6,
          "metadata": {},
          "output_type": "execute_result"
        }
      ],
      "source": [
        "anime_df.head()"
      ]
    },
    {
      "cell_type": "markdown",
      "metadata": {},
      "source": [
        "Melihat tipe dan beberapa sample genre anime"
      ]
    },
    {
      "cell_type": "code",
      "execution_count": 7,
      "metadata": {},
      "outputs": [
        {
          "name": "stdout",
          "output_type": "stream",
          "text": [
            "Tipe anime: type\n",
            "TV         3787\n",
            "OVA        3311\n",
            "Movie      2348\n",
            "Special    1676\n",
            "ONA         659\n",
            "Music       488\n",
            "Name: count, dtype: int64\n",
            "\n",
            "Genre sample: Drama, Romance, School, Supernatural\n"
          ]
        }
      ],
      "source": [
        "print(\"Tipe anime:\", anime_df['type'].value_counts())\n",
        "print(\"\\nGenre sample:\", anime_df['genre'].dropna().iloc[0])"
      ]
    },
    {
      "cell_type": "markdown",
      "metadata": {},
      "source": [
        "Melihat jumlah baris dan kolom pada dataframe anime dan rating"
      ]
    },
    {
      "cell_type": "code",
      "execution_count": 8,
      "metadata": {},
      "outputs": [
        {
          "name": "stdout",
          "output_type": "stream",
          "text": [
            "Jumlah baris dan kolom di anime dataframe: (12294, 7)\n",
            "Jumlah baris dan kolom di rating dataframe: (7813737, 3)\n"
          ]
        }
      ],
      "source": [
        "print(\"Jumlah baris dan kolom di anime dataframe:\", anime_df.shape)\n",
        "\n",
        "print(\"Jumlah baris dan kolom di rating dataframe:\", rating_df.shape)"
      ]
    },
    {
      "cell_type": "markdown",
      "metadata": {},
      "source": [
        "Melihat missing values pada dataframe anime dan rating"
      ]
    },
    {
      "cell_type": "code",
      "execution_count": 9,
      "metadata": {},
      "outputs": [
        {
          "name": "stdout",
          "output_type": "stream",
          "text": [
            "\n",
            "Missing values per fitur in anime dataframe:\n",
            "anime_id      0\n",
            "name          0\n",
            "genre        62\n",
            "type         25\n",
            "episodes      0\n",
            "rating      230\n",
            "members       0\n",
            "dtype: int64\n",
            "\n",
            "Missing values per fitur in rating dataframe:\n",
            "user_id     0\n",
            "anime_id    0\n",
            "rating      0\n",
            "dtype: int64\n"
          ]
        }
      ],
      "source": [
        "print(\"\\nMissing values per fitur in anime dataframe:\")\n",
        "print(anime_df.isnull().sum())\n",
        "\n",
        "print(\"\\nMissing values per fitur in rating dataframe:\")\n",
        "print(rating_df.isnull().sum())"
      ]
    },
    {
      "cell_type": "markdown",
      "metadata": {},
      "source": [
        "Setelah dilihat, ternyata ada beberapa data pada dataframe anime yang memiliki missing value seperti genre, type, dan rating"
      ]
    },
    {
      "cell_type": "markdown",
      "metadata": {},
      "source": [
        "Melihat data duplikat pada dataframe anime dan rating"
      ]
    },
    {
      "cell_type": "code",
      "execution_count": 10,
      "metadata": {},
      "outputs": [
        {
          "name": "stdout",
          "output_type": "stream",
          "text": [
            "Number of duplicate rows in anime dataframe: 0\n",
            "Number of duplicate rows in rating dataframe: 1\n"
          ]
        }
      ],
      "source": [
        "duplicates = anime_df.duplicated()\n",
        "duplicate_count = duplicates.sum()\n",
        "\n",
        "rating_duplicates = rating_df.duplicated()\n",
        "rating_duplicate_count = rating_duplicates.sum()\n",
        "\n",
        "print(f\"Number of duplicate rows in anime dataframe: {duplicate_count}\")\n",
        "\n",
        "print(f\"Number of duplicate rows in rating dataframe: {rating_duplicate_count}\")"
      ]
    },
    {
      "cell_type": "markdown",
      "metadata": {},
      "source": [
        "Setelah dilihat, ternyata ada 1 data yang duplikat pada dataframe rating"
      ]
    },
    {
      "cell_type": "markdown",
      "metadata": {},
      "source": [
        "**Visualisasi Data**"
      ]
    },
    {
      "cell_type": "markdown",
      "metadata": {},
      "source": [
        "- Jumlah anime berdasarkan tipe penayangan"
      ]
    },
    {
      "cell_type": "code",
      "execution_count": 11,
      "metadata": {},
      "outputs": [
        {
          "data": {
            "image/png": "[encoded data removed]",
            "text/plain": [
              "<Figure size 640x480 with 1 Axes>"
            ]
          },
          "metadata": {},
          "output_type": "display_data"
        }
      ],
      "source": [
        "sns.countplot(data=anime_df, x='type', order=anime_df['type'].value_counts().index)\n",
        "plt.title(\"Jumlah Anime berdasarkan Tipe\")\n",
        "plt.xticks(rotation=45)\n",
        "plt.show()"
      ]
    },
    {
      "cell_type": "markdown",
      "metadata": {},
      "source": [
        "Grafik menunjukkan bahwa anime tipe TV merupakan yang paling banyak diproduksi, disusul oleh OVA dan Movie. Sementara itu, tipe seperti Special, ONA, dan Music jumlahnya jauh lebih sedikit. Hal ini menunjukkan bahwa format TV masih menjadi media utama dalam distribusi anime, sedangkan tipe lain bersifat pelengkap atau lebih spesifik."
      ]
    },
    {
      "cell_type": "markdown",
      "metadata": {},
      "source": [
        "- Jumlah anime berdasarkan genre"
      ]
    },
    {
      "cell_type": "code",
      "execution_count": 12,
      "metadata": {},
      "outputs": [
        {
          "name": "stderr",
          "output_type": "stream",
          "text": [
            "C:\\Users\\Cahya\\AppData\\Local\\Temp\\ipykernel_18224\\2387466951.py:17: FutureWarning: \n",
            "\n",
            "Passing `palette` without assigning `hue` is deprecated and will be removed in v0.14.0. Assign the `y` variable to `hue` and set `legend=False` for the same effect.\n",
            "\n",
            "  sns.barplot(data=genre_df, x='Count', y='Genre', palette='viridis')\n"
          ]
        },
        {
          "data": {
            "image/png": "[encoded data removed]",
            "text/plain": [
              "<Figure size 1400x700 with 1 Axes>"
            ]
          },
          "metadata": {},
          "output_type": "display_data"
        }
      ],
      "source": [
        "genre_series = anime_df['genre'].dropna()\n",
        "\n",
        "# Pisah dan hitung semua genre\n",
        "all_genres = []\n",
        "for genre_str in genre_series:\n",
        "    genres = genre_str.split(', ')\n",
        "    all_genres.extend(genres)\n",
        "\n",
        "# Hitung frekuensi setiap genre\n",
        "from collections import Counter\n",
        "genre_count = Counter(all_genres)\n",
        "\n",
        "genre_df = pd.DataFrame(genre_count.items(), columns=['Genre', 'Count'])\n",
        "genre_df = genre_df.sort_values(by='Count', ascending=False)\n",
        "\n",
        "plt.figure(figsize=(14, 7))\n",
        "sns.barplot(data=genre_df, x='Count', y='Genre', palette='viridis')\n",
        "plt.title('Jumlah Anime Berdasarkan Genre')\n",
        "plt.xlabel('Jumlah Anime')\n",
        "plt.ylabel('Genre')\n",
        "plt.tight_layout()\n",
        "plt.show()\n"
      ]
    },
    {
      "cell_type": "markdown",
      "metadata": {},
      "source": [
        "Grafik menunjukkan bahwa genre anime paling populer adalah Comedy, diikuti oleh Action, Adventure, dan Fantasy. Genre seperti Yaoi, Yuri, dan Josei memiliki jumlah anime yang jauh lebih sedikit. Ini mengindikasikan bahwa preferensi industri dan penonton cenderung fokus pada genre yang ringan dan penuh aksi, sementara genre-genre yang lebih spesifik atau bertarget niche memiliki representasi yang lebih kecil."
      ]
    },
    {
      "cell_type": "markdown",
      "metadata": {},
      "source": [
        "- Distribusi rating anime"
      ]
    },
    {
      "cell_type": "code",
      "execution_count": 13,
      "metadata": {},
      "outputs": [
        {
          "data": {
            "image/png": "[encoded data removed]",
            "text/plain": [
              "<Figure size 640x480 with 1 Axes>"
            ]
          },
          "metadata": {},
          "output_type": "display_data"
        }
      ],
      "source": [
        "sns.histplot(anime_df['rating'].dropna(), bins=20, kde=True)\n",
        "plt.title(\"Distribusi Rating Anime\")\n",
        "plt.xlabel(\"Rating\")\n",
        "plt.ylabel(\"Jumlah Anime\")\n",
        "plt.show()\n"
      ]
    },
    {
      "cell_type": "markdown",
      "metadata": {},
      "source": [
        "Grafik distribusi rating anime menunjukkan pola yang menyerupai kurva normal, dengan sebagian besar anime memiliki rating di kisaran 6 hingga 8. Sangat sedikit anime yang mendapatkan rating di bawah 4 atau di atas 9. "
      ]
    },
    {
      "cell_type": "markdown",
      "metadata": {},
      "source": [
        "- Distribusi rating pengguna"
      ]
    },
    {
      "cell_type": "code",
      "execution_count": 14,
      "metadata": {},
      "outputs": [
        {
          "data": {
            "image/png": "[encoded data removed]",
            "text/plain": [
              "<Figure size 640x480 with 1 Axes>"
            ]
          },
          "metadata": {},
          "output_type": "display_data"
        }
      ],
      "source": [
        "sns.countplot(data=rating_df, x='rating')\n",
        "plt.title(\"Distribusi Rating dari Pengguna\")\n",
        "plt.xlabel(\"Rating (termasuk -1 untuk belum menilai)\")\n",
        "plt.show()"
      ]
    },
    {
      "cell_type": "markdown",
      "metadata": {},
      "source": [
        "Grafik menunjukkan kebanyakkan user menilai anime dengan score 8. Selain itu, banyak juga user yang belum menilai anime yang ditonton"
      ]
    },
    {
      "cell_type": "markdown",
      "metadata": {},
      "source": [
        "- Anime top 10 berdasarkan jumlah rating pengguna"
      ]
    },
    {
      "cell_type": "code",
      "execution_count": 15,
      "metadata": {},
      "outputs": [
        {
          "name": "stderr",
          "output_type": "stream",
          "text": [
            "C:\\Users\\Cahya\\AppData\\Local\\Temp\\ipykernel_18224\\333384752.py:3: FutureWarning: \n",
            "\n",
            "Passing `palette` without assigning `hue` is deprecated and will be removed in v0.14.0. Assign the `y` variable to `hue` and set `legend=False` for the same effect.\n",
            "\n",
            "  sns.barplot(x=top_anime.values, y=top_anime.index, palette=\"viridis\")\n"
          ]
        },
        {
          "data": {
            "image/png": "[encoded data removed]",
            "text/plain": [
              "<Figure size 640x480 with 1 Axes>"
            ]
          },
          "metadata": {},
          "output_type": "display_data"
        }
      ],
      "source": [
        "top_anime = merged_df[merged_df['rating_x'] > 0].groupby('name')['rating_x'].count().sort_values(ascending=False).head(10)\n",
        "\n",
        "sns.barplot(x=top_anime.values, y=top_anime.index, palette=\"viridis\")\n",
        "plt.title(\"Top 10 Anime berdasarkan Jumlah Rating\")\n",
        "plt.xlabel(\"Jumlah Rating\")\n",
        "plt.ylabel(\"Anime\")\n",
        "plt.show()\n"
      ]
    },
    {
      "cell_type": "markdown",
      "metadata": {},
      "source": [
        "Grafik ini menunjukkan bahwa \"Death Note\" adalah anime dengan jumlah rating terbanyak secara signifikan, diikuti oleh \"Sword Art Online\" dan \"Shingeki no Kyojin\". Kehadiran dua seri dari \"Code Geass\" (original dan R2) serta \"Fullmetal Alchemist\" (original dan Brotherhood) dalam daftar ini menunjukkan popularitas dan basis penggemar yang kuat untuk franchise tersebut. "
      ]
    },
    {
      "cell_type": "markdown",
      "metadata": {
        "id": "cpgHfgnSK3ip"
      },
      "source": [
        "# **Data Preparation**"
      ]
    },
    {
      "cell_type": "markdown",
      "metadata": {
        "id": "COf8KUPXLg5r"
      },
      "source": [
        "Pada tahap ini, data preparation adalah langkah penting untuk memastikan kualitas data sebelum digunakan dalam model rekomendasi. Data mentah sering kali mengandung nilai kosong, duplikasi yang dapat memengaruhi kinerja model. Oleh karena itu, proses ini bertujuan untuk membersihkan dan mempersiapkan data agar modeling berjalan optimal.\n"
      ]
    },
    {
      "cell_type": "markdown",
      "metadata": {
        "id": "XCsGxnJ-2ii1"
      },
      "source": [
        "**Menghapus missing value**"
      ]
    },
    {
      "cell_type": "code",
      "execution_count": 16,
      "metadata": {
        "colab": {
          "base_uri": "https://localhost:8080/"
        },
        "id": "WzBGjcbQM7N8",
        "outputId": "6a073d83-5602-44f6-f6d1-22a82e6161ef"
      },
      "outputs": [
        {
          "name": "stdout",
          "output_type": "stream",
          "text": [
            "Jumlah missing values sebelum dibersihkan (anime_df):\n",
            "anime_id      0\n",
            "name          0\n",
            "genre        62\n",
            "type         25\n",
            "episodes      0\n",
            "rating      230\n",
            "members       0\n",
            "dtype: int64\n",
            "==================================================\n",
            "Hasil akhir setelah dihapus missing value\n",
            "anime_id    0\n",
            "name        0\n",
            "genre       0\n",
            "type        0\n",
            "episodes    0\n",
            "rating      0\n",
            "members     0\n",
            "dtype: int64\n"
          ]
        }
      ],
      "source": [
        "print(\"Jumlah missing values sebelum dibersihkan (anime_df):\")\n",
        "print(anime_df.isnull().sum())\n",
        "print(\"=\"*50)\n",
        "\n",
        "anime_df = anime_df.dropna(subset=['rating'])\n",
        "\n",
        "# Genre kosong diisi dengan string kosong\n",
        "anime_df['genre'] = anime_df['genre'].fillna('')\n",
        "print(\"Hasil akhir setelah dihapus missing value\")\n",
        "print(anime_df.isnull().sum())\n"
      ]
    },
    {
      "cell_type": "markdown",
      "metadata": {},
      "source": [
        "Awalnya ada beberapa data yang memiliki masing value seperti genre, type, dan rating. Setelah di drop data sudah tidak memiliki missing value "
      ]
    },
    {
      "cell_type": "markdown",
      "metadata": {
        "id": "hgBN9KnfVBiz"
      },
      "source": [
        "**Menghilangkan data duplikat**"
      ]
    },
    {
      "cell_type": "code",
      "execution_count": 17,
      "metadata": {
        "colab": {
          "base_uri": "https://localhost:8080/"
        },
        "id": "dNlvfxD9Zzv_",
        "outputId": "c254c09b-c30b-46f8-a53e-49302383aea1"
      },
      "outputs": [
        {
          "name": "stdout",
          "output_type": "stream",
          "text": [
            "Duplikat yang dihapus dari anime_df: 0\n"
          ]
        }
      ],
      "source": [
        "# Cek dan hapus duplikat di anime_df berdasarkan anime_id\n",
        "before = anime_df.shape[0]\n",
        "anime_df = anime_df.drop_duplicates(subset='anime_id')\n",
        "after = anime_df.shape[0]\n",
        "print(f\"Duplikat yang dihapus dari anime_df: {before - after}\")\n"
      ]
    },
    {
      "cell_type": "markdown",
      "metadata": {},
      "source": [
        "Setelah diperiksa, ternyata tidak ada data yang duplikat pada dataset"
      ]
    },
    {
      "cell_type": "markdown",
      "metadata": {},
      "source": [
        "**Menghilangkan koma pada genre**"
      ]
    },
    {
      "cell_type": "code",
      "execution_count": 18,
      "metadata": {},
      "outputs": [],
      "source": [
        "anime_df['genre'] = anime_df['genre'].str.replace(',', ' ')\n"
      ]
    },
    {
      "cell_type": "markdown",
      "metadata": {},
      "source": [
        "**Mengubah frasa multi-kata spesifik yang ingin dipertahankan sebagai satu token**"
      ]
    },
    {
      "cell_type": "code",
      "execution_count": 19,
      "metadata": {},
      "outputs": [],
      "source": [
        "\n",
        "\n",
        "anime_df['genre'] = anime_df['genre'].str.replace(r'slice of life', 'slice_of_life', regex=True)\n",
        "anime_df['genre'] = anime_df['genre'].str.replace(r'sci fi', 'sci_fi', regex=True)\n",
        "anime_df['genre'] = anime_df['genre'].str.replace(r'martial arts', 'martial_arts', regex=True)\n",
        "anime_df['genre'] = anime_df['genre'].str.replace(r'super power', 'super_power', regex=True)\n"
      ]
    },
    {
      "cell_type": "markdown",
      "metadata": {},
      "source": [
        "**TF-IDF Transformation**\n",
        "\n",
        "TF-IDF (Term Frequency - Inverse Document Frequency) dilakukan untuk mengubah genre anime menjadi bentuk numerik yang nantinya diproses oleh model"
      ]
    },
    {
      "cell_type": "code",
      "execution_count": 20,
      "metadata": {},
      "outputs": [
        {
          "name": "stdout",
          "output_type": "stream",
          "text": [
            "Jumlah anime: 12064\n",
            "Jumlah fitur unik (genre): 47\n",
            "Genre unik yang ditemukan:\n",
            "['action' 'adventure' 'ai' 'arts' 'cars' 'comedy' 'dementia' 'demons'\n",
            " 'drama' 'ecchi' 'fantasy' 'fi' 'game' 'harem' 'hentai' 'historical'\n",
            " 'horror' 'josei' 'kids' 'life' 'magic' 'martial' 'mecha' 'military'\n",
            " 'music' 'mystery' 'of' 'parody' 'police' 'power' 'psychological'\n",
            " 'romance' 'samurai' 'school' 'sci' 'seinen' 'shoujo' 'shounen' 'slice'\n",
            " 'space' 'sports' 'super' 'supernatural' 'thriller' 'vampire' 'yaoi'\n",
            " 'yuri']\n"
          ]
        },
        {
          "data": {
            "text/plain": [
              "matrix([[0.        , 0.        , 0.        , ..., 0.        , 0.        ,\n",
              "         0.        ],\n",
              "        [0.2950953 , 0.31637103, 0.        , ..., 0.        , 0.        ,\n",
              "         0.        ],\n",
              "        [0.25174628, 0.        , 0.        , ..., 0.        , 0.        ,\n",
              "         0.        ],\n",
              "        ...,\n",
              "        [0.        , 0.        , 0.        , ..., 0.        , 0.        ,\n",
              "         0.        ],\n",
              "        [0.        , 0.        , 0.        , ..., 0.        , 0.        ,\n",
              "         0.        ],\n",
              "        [0.        , 0.        , 0.        , ..., 0.        , 0.        ,\n",
              "         0.        ]])"
            ]
          },
          "execution_count": 20,
          "metadata": {},
          "output_type": "execute_result"
        }
      ],
      "source": [
        "tfidf = TfidfVectorizer()\n",
        "tfidf_matrix = tfidf.fit_transform(anime_df['genre'])\n",
        "\n",
        "\n",
        "print(\"Jumlah anime:\", tfidf_matrix.shape[0])\n",
        "print(\"Jumlah fitur unik (genre):\", tfidf_matrix.shape[1])\n",
        "\n",
        "genres = tfidf.get_feature_names_out()\n",
        "print(\"Genre unik yang ditemukan:\")\n",
        "print(genres)\n",
        "\n",
        "tfidf_matrix.shape\n",
        "tfidf_matrix.todense()"
      ]
    },
    {
      "cell_type": "markdown",
      "metadata": {},
      "source": [
        "Hasilnya berupa matriks dengan ukuran **jumlah_anime** dan **jumlah_genre**"
      ]
    },
    {
      "cell_type": "markdown",
      "metadata": {
        "id": "BR73dCnrLEiq"
      },
      "source": [
        "# **Sistem Rekomendasi - Content Based Filtering**"
      ]
    },
    {
      "cell_type": "markdown",
      "metadata": {},
      "source": [
        "Pendekatan ini merekomendasikan item berdasarkan kesamaan karakteristik item tersebut. Dalam kasus ini, genre anime akan digunakan sebagai dasar kemiripan."
      ]
    },
    {
      "cell_type": "markdown",
      "metadata": {},
      "source": [
        "**Cosine Similarity**\n",
        "\n",
        "Cosine similarity digunakan untuk merekomendasikan anime berdasarkan kesamaan genre. Metode ini mengukur sudut antar vektor dan menghasilkan nilai antara 0 sampai 1, di mana semakin mendekati 1 berarti semakin mirip."
      ]
    },
    {
      "cell_type": "code",
      "execution_count": 24,
      "metadata": {},
      "outputs": [
        {
          "name": "stdout",
          "output_type": "stream",
          "text": [
            "Shape cosine similarity matrix: (12064, 12064)\n"
          ]
        },
        {
          "data": {
            "text/html": [
              "<div>\n",
              "<style scoped>\n",
              "    .dataframe tbody tr th:only-of-type {\n",
              "        vertical-align: middle;\n",
              "    }\n",
              "\n",
              "    .dataframe tbody tr th {\n",
              "        vertical-align: top;\n",
              "    }\n",
              "\n",
              "    .dataframe thead th {\n",
              "        text-align: right;\n",
              "    }\n",
              "</style>\n",
              "<table border=\"1\" class=\"dataframe\">\n",
              "  <thead>\n",
              "    <tr style=\"text-align: right;\">\n",
              "      <th></th>\n",
              "      <th>seinen</th>\n",
              "      <th>fantasy</th>\n",
              "      <th>thriller</th>\n",
              "      <th>samurai</th>\n",
              "      <th>police</th>\n",
              "      <th>supernatural</th>\n",
              "      <th>drama</th>\n",
              "      <th>sports</th>\n",
              "      <th>slice</th>\n",
              "      <th>parody</th>\n",
              "      <th>super</th>\n",
              "      <th>military</th>\n",
              "      <th>cars</th>\n",
              "      <th>kids</th>\n",
              "      <th>ai</th>\n",
              "      <th>martial</th>\n",
              "      <th>romance</th>\n",
              "      <th>space</th>\n",
              "      <th>josei</th>\n",
              "      <th>horror</th>\n",
              "    </tr>\n",
              "    <tr>\n",
              "      <th>name</th>\n",
              "      <th></th>\n",
              "      <th></th>\n",
              "      <th></th>\n",
              "      <th></th>\n",
              "      <th></th>\n",
              "      <th></th>\n",
              "      <th></th>\n",
              "      <th></th>\n",
              "      <th></th>\n",
              "      <th></th>\n",
              "      <th></th>\n",
              "      <th></th>\n",
              "      <th></th>\n",
              "      <th></th>\n",
              "      <th></th>\n",
              "      <th></th>\n",
              "      <th></th>\n",
              "      <th></th>\n",
              "      <th></th>\n",
              "      <th></th>\n",
              "    </tr>\n",
              "  </thead>\n",
              "  <tbody>\n",
              "    <tr>\n",
              "      <th>Kujakuou: Sengoku Tensei</th>\n",
              "      <td>0.0</td>\n",
              "      <td>0.000000</td>\n",
              "      <td>0.0</td>\n",
              "      <td>0.0</td>\n",
              "      <td>0.0</td>\n",
              "      <td>0.472523</td>\n",
              "      <td>0.000000</td>\n",
              "      <td>0.0</td>\n",
              "      <td>0.0</td>\n",
              "      <td>0.0</td>\n",
              "      <td>0.000000</td>\n",
              "      <td>0.0</td>\n",
              "      <td>0.0</td>\n",
              "      <td>0.000000</td>\n",
              "      <td>0.0</td>\n",
              "      <td>0.0</td>\n",
              "      <td>0.000000</td>\n",
              "      <td>0.0</td>\n",
              "      <td>0.0</td>\n",
              "      <td>0.0</td>\n",
              "    </tr>\n",
              "    <tr>\n",
              "      <th>Orange: Mirai</th>\n",
              "      <td>0.0</td>\n",
              "      <td>0.000000</td>\n",
              "      <td>0.0</td>\n",
              "      <td>0.0</td>\n",
              "      <td>0.0</td>\n",
              "      <td>0.000000</td>\n",
              "      <td>0.363634</td>\n",
              "      <td>0.0</td>\n",
              "      <td>0.0</td>\n",
              "      <td>0.0</td>\n",
              "      <td>0.000000</td>\n",
              "      <td>0.0</td>\n",
              "      <td>0.0</td>\n",
              "      <td>0.000000</td>\n",
              "      <td>0.0</td>\n",
              "      <td>0.0</td>\n",
              "      <td>0.404919</td>\n",
              "      <td>0.0</td>\n",
              "      <td>0.0</td>\n",
              "      <td>0.0</td>\n",
              "    </tr>\n",
              "    <tr>\n",
              "      <th>Overlord: Ple Ple Pleiades (OVA)</th>\n",
              "      <td>0.0</td>\n",
              "      <td>0.478119</td>\n",
              "      <td>0.0</td>\n",
              "      <td>0.0</td>\n",
              "      <td>0.0</td>\n",
              "      <td>0.000000</td>\n",
              "      <td>0.000000</td>\n",
              "      <td>0.0</td>\n",
              "      <td>0.0</td>\n",
              "      <td>0.0</td>\n",
              "      <td>0.000000</td>\n",
              "      <td>0.0</td>\n",
              "      <td>0.0</td>\n",
              "      <td>0.000000</td>\n",
              "      <td>0.0</td>\n",
              "      <td>0.0</td>\n",
              "      <td>0.000000</td>\n",
              "      <td>0.0</td>\n",
              "      <td>0.0</td>\n",
              "      <td>0.0</td>\n",
              "    </tr>\n",
              "    <tr>\n",
              "      <th>Sprite: Between Two Worlds</th>\n",
              "      <td>0.0</td>\n",
              "      <td>0.000000</td>\n",
              "      <td>0.0</td>\n",
              "      <td>0.0</td>\n",
              "      <td>0.0</td>\n",
              "      <td>0.000000</td>\n",
              "      <td>0.000000</td>\n",
              "      <td>0.0</td>\n",
              "      <td>0.0</td>\n",
              "      <td>0.0</td>\n",
              "      <td>0.000000</td>\n",
              "      <td>0.0</td>\n",
              "      <td>0.0</td>\n",
              "      <td>0.000000</td>\n",
              "      <td>0.0</td>\n",
              "      <td>0.0</td>\n",
              "      <td>0.492208</td>\n",
              "      <td>0.0</td>\n",
              "      <td>0.0</td>\n",
              "      <td>0.0</td>\n",
              "    </tr>\n",
              "    <tr>\n",
              "      <th>Perman (1983)</th>\n",
              "      <td>0.0</td>\n",
              "      <td>0.000000</td>\n",
              "      <td>0.0</td>\n",
              "      <td>0.0</td>\n",
              "      <td>0.0</td>\n",
              "      <td>0.000000</td>\n",
              "      <td>0.000000</td>\n",
              "      <td>0.0</td>\n",
              "      <td>0.0</td>\n",
              "      <td>0.0</td>\n",
              "      <td>0.549515</td>\n",
              "      <td>0.0</td>\n",
              "      <td>0.0</td>\n",
              "      <td>0.387465</td>\n",
              "      <td>0.0</td>\n",
              "      <td>0.0</td>\n",
              "      <td>0.000000</td>\n",
              "      <td>0.0</td>\n",
              "      <td>0.0</td>\n",
              "      <td>0.0</td>\n",
              "    </tr>\n",
              "    <tr>\n",
              "      <th>Fukigen na Mononokean</th>\n",
              "      <td>0.0</td>\n",
              "      <td>0.000000</td>\n",
              "      <td>0.0</td>\n",
              "      <td>0.0</td>\n",
              "      <td>0.0</td>\n",
              "      <td>0.870795</td>\n",
              "      <td>0.000000</td>\n",
              "      <td>0.0</td>\n",
              "      <td>0.0</td>\n",
              "      <td>0.0</td>\n",
              "      <td>0.000000</td>\n",
              "      <td>0.0</td>\n",
              "      <td>0.0</td>\n",
              "      <td>0.000000</td>\n",
              "      <td>0.0</td>\n",
              "      <td>0.0</td>\n",
              "      <td>0.000000</td>\n",
              "      <td>0.0</td>\n",
              "      <td>0.0</td>\n",
              "      <td>0.0</td>\n",
              "    </tr>\n",
              "    <tr>\n",
              "      <th>GetBackers</th>\n",
              "      <td>0.0</td>\n",
              "      <td>0.000000</td>\n",
              "      <td>0.0</td>\n",
              "      <td>0.0</td>\n",
              "      <td>0.0</td>\n",
              "      <td>0.361532</td>\n",
              "      <td>0.291047</td>\n",
              "      <td>0.0</td>\n",
              "      <td>0.0</td>\n",
              "      <td>0.0</td>\n",
              "      <td>0.444038</td>\n",
              "      <td>0.0</td>\n",
              "      <td>0.0</td>\n",
              "      <td>0.000000</td>\n",
              "      <td>0.0</td>\n",
              "      <td>0.0</td>\n",
              "      <td>0.000000</td>\n",
              "      <td>0.0</td>\n",
              "      <td>0.0</td>\n",
              "      <td>0.0</td>\n",
              "    </tr>\n",
              "    <tr>\n",
              "      <th>Dokkaebi Bangmang-I</th>\n",
              "      <td>0.0</td>\n",
              "      <td>0.000000</td>\n",
              "      <td>0.0</td>\n",
              "      <td>0.0</td>\n",
              "      <td>0.0</td>\n",
              "      <td>0.000000</td>\n",
              "      <td>0.000000</td>\n",
              "      <td>0.0</td>\n",
              "      <td>0.0</td>\n",
              "      <td>0.0</td>\n",
              "      <td>0.000000</td>\n",
              "      <td>0.0</td>\n",
              "      <td>0.0</td>\n",
              "      <td>0.000000</td>\n",
              "      <td>0.0</td>\n",
              "      <td>0.0</td>\n",
              "      <td>0.000000</td>\n",
              "      <td>0.0</td>\n",
              "      <td>0.0</td>\n",
              "      <td>0.0</td>\n",
              "    </tr>\n",
              "    <tr>\n",
              "      <th>Lodoss-tou Senki: Eiyuu Kishi Den</th>\n",
              "      <td>0.0</td>\n",
              "      <td>0.370975</td>\n",
              "      <td>0.0</td>\n",
              "      <td>0.0</td>\n",
              "      <td>0.0</td>\n",
              "      <td>0.000000</td>\n",
              "      <td>0.388363</td>\n",
              "      <td>0.0</td>\n",
              "      <td>0.0</td>\n",
              "      <td>0.0</td>\n",
              "      <td>0.000000</td>\n",
              "      <td>0.0</td>\n",
              "      <td>0.0</td>\n",
              "      <td>0.000000</td>\n",
              "      <td>0.0</td>\n",
              "      <td>0.0</td>\n",
              "      <td>0.432455</td>\n",
              "      <td>0.0</td>\n",
              "      <td>0.0</td>\n",
              "      <td>0.0</td>\n",
              "    </tr>\n",
              "    <tr>\n",
              "      <th>Aneimo</th>\n",
              "      <td>0.0</td>\n",
              "      <td>0.000000</td>\n",
              "      <td>0.0</td>\n",
              "      <td>0.0</td>\n",
              "      <td>0.0</td>\n",
              "      <td>0.000000</td>\n",
              "      <td>0.000000</td>\n",
              "      <td>0.0</td>\n",
              "      <td>0.0</td>\n",
              "      <td>0.0</td>\n",
              "      <td>0.000000</td>\n",
              "      <td>0.0</td>\n",
              "      <td>0.0</td>\n",
              "      <td>0.000000</td>\n",
              "      <td>0.0</td>\n",
              "      <td>0.0</td>\n",
              "      <td>0.000000</td>\n",
              "      <td>0.0</td>\n",
              "      <td>0.0</td>\n",
              "      <td>0.0</td>\n",
              "    </tr>\n",
              "  </tbody>\n",
              "</table>\n",
              "</div>"
            ],
            "text/plain": [
              "                                   seinen   fantasy  thriller  samurai  \\\n",
              "name                                                                     \n",
              "Kujakuou: Sengoku Tensei              0.0  0.000000       0.0      0.0   \n",
              "Orange: Mirai                         0.0  0.000000       0.0      0.0   \n",
              "Overlord: Ple Ple Pleiades (OVA)      0.0  0.478119       0.0      0.0   \n",
              "Sprite: Between Two Worlds            0.0  0.000000       0.0      0.0   \n",
              "Perman (1983)                         0.0  0.000000       0.0      0.0   \n",
              "Fukigen na Mononokean                 0.0  0.000000       0.0      0.0   \n",
              "GetBackers                            0.0  0.000000       0.0      0.0   \n",
              "Dokkaebi Bangmang-I                   0.0  0.000000       0.0      0.0   \n",
              "Lodoss-tou Senki: Eiyuu Kishi Den     0.0  0.370975       0.0      0.0   \n",
              "Aneimo                                0.0  0.000000       0.0      0.0   \n",
              "\n",
              "                                   police  supernatural     drama  sports  \\\n",
              "name                                                                        \n",
              "Kujakuou: Sengoku Tensei              0.0      0.472523  0.000000     0.0   \n",
              "Orange: Mirai                         0.0      0.000000  0.363634     0.0   \n",
              "Overlord: Ple Ple Pleiades (OVA)      0.0      0.000000  0.000000     0.0   \n",
              "Sprite: Between Two Worlds            0.0      0.000000  0.000000     0.0   \n",
              "Perman (1983)                         0.0      0.000000  0.000000     0.0   \n",
              "Fukigen na Mononokean                 0.0      0.870795  0.000000     0.0   \n",
              "GetBackers                            0.0      0.361532  0.291047     0.0   \n",
              "Dokkaebi Bangmang-I                   0.0      0.000000  0.000000     0.0   \n",
              "Lodoss-tou Senki: Eiyuu Kishi Den     0.0      0.000000  0.388363     0.0   \n",
              "Aneimo                                0.0      0.000000  0.000000     0.0   \n",
              "\n",
              "                                   slice  parody     super  military  cars  \\\n",
              "name                                                                         \n",
              "Kujakuou: Sengoku Tensei             0.0     0.0  0.000000       0.0   0.0   \n",
              "Orange: Mirai                        0.0     0.0  0.000000       0.0   0.0   \n",
              "Overlord: Ple Ple Pleiades (OVA)     0.0     0.0  0.000000       0.0   0.0   \n",
              "Sprite: Between Two Worlds           0.0     0.0  0.000000       0.0   0.0   \n",
              "Perman (1983)                        0.0     0.0  0.549515       0.0   0.0   \n",
              "Fukigen na Mononokean                0.0     0.0  0.000000       0.0   0.0   \n",
              "GetBackers                           0.0     0.0  0.444038       0.0   0.0   \n",
              "Dokkaebi Bangmang-I                  0.0     0.0  0.000000       0.0   0.0   \n",
              "Lodoss-tou Senki: Eiyuu Kishi Den    0.0     0.0  0.000000       0.0   0.0   \n",
              "Aneimo                               0.0     0.0  0.000000       0.0   0.0   \n",
              "\n",
              "                                       kids   ai  martial   romance  space  \\\n",
              "name                                                                         \n",
              "Kujakuou: Sengoku Tensei           0.000000  0.0      0.0  0.000000    0.0   \n",
              "Orange: Mirai                      0.000000  0.0      0.0  0.404919    0.0   \n",
              "Overlord: Ple Ple Pleiades (OVA)   0.000000  0.0      0.0  0.000000    0.0   \n",
              "Sprite: Between Two Worlds         0.000000  0.0      0.0  0.492208    0.0   \n",
              "Perman (1983)                      0.387465  0.0      0.0  0.000000    0.0   \n",
              "Fukigen na Mononokean              0.000000  0.0      0.0  0.000000    0.0   \n",
              "GetBackers                         0.000000  0.0      0.0  0.000000    0.0   \n",
              "Dokkaebi Bangmang-I                0.000000  0.0      0.0  0.000000    0.0   \n",
              "Lodoss-tou Senki: Eiyuu Kishi Den  0.000000  0.0      0.0  0.432455    0.0   \n",
              "Aneimo                             0.000000  0.0      0.0  0.000000    0.0   \n",
              "\n",
              "                                   josei  horror  \n",
              "name                                              \n",
              "Kujakuou: Sengoku Tensei             0.0     0.0  \n",
              "Orange: Mirai                        0.0     0.0  \n",
              "Overlord: Ple Ple Pleiades (OVA)     0.0     0.0  \n",
              "Sprite: Between Two Worlds           0.0     0.0  \n",
              "Perman (1983)                        0.0     0.0  \n",
              "Fukigen na Mononokean                0.0     0.0  \n",
              "GetBackers                           0.0     0.0  \n",
              "Dokkaebi Bangmang-I                  0.0     0.0  \n",
              "Lodoss-tou Senki: Eiyuu Kishi Den    0.0     0.0  \n",
              "Aneimo                               0.0     0.0  "
            ]
          },
          "execution_count": 24,
          "metadata": {},
          "output_type": "execute_result"
        }
      ],
      "source": [
        "cosine_sim = cosine_similarity(tfidf_matrix)\n",
        "\n",
        "print(\"Shape cosine similarity matrix:\", cosine_sim.shape)\n",
        "\n",
        "pd.DataFrame(\n",
        "    tfidf_matrix.todense(), \n",
        "    columns=tfidf.get_feature_names_out(),\n",
        "    index=anime_df.name\n",
        ").sample(20, axis=1).sample(10, axis=0)\n"
      ]
    },
    {
      "cell_type": "markdown",
      "metadata": {},
      "source": [
        "**Mapping name to index**"
      ]
    },
    {
      "cell_type": "code",
      "execution_count": 25,
      "metadata": {},
      "outputs": [],
      "source": [
        "indices = pd.Series(anime_df.index, index=anime_df['name']).drop_duplicates()"
      ]
    },
    {
      "cell_type": "markdown",
      "metadata": {},
      "source": [
        "Mapping dilakukan untuk membuat struktur data yang memungkinkan dengan cepat mencari index dari sebuah anime berdasarkan namanya (name)."
      ]
    },
    {
      "cell_type": "markdown",
      "metadata": {},
      "source": [
        "**Sistem Rekomendasi**\n",
        "\n",
        "Untuk memberikan rekomendasi anime berdasarkan judul input dan kemiripan konten (similarity) dengan anime lain, menggunakan cosine similarity matrix.\n"
      ]
    },
    {
      "cell_type": "code",
      "execution_count": 26,
      "metadata": {},
      "outputs": [],
      "source": [
        "def get_recommendations(title, cosine_sim=cosine_sim, top_k=5):\n",
        "    if title not in indices:\n",
        "        return f\"'{title}' tidak ditemukan.\"\n",
        "\n",
        "    idx = indices[title]\n",
        "\n",
        "    sim_scores = list(enumerate(cosine_sim[idx]))\n",
        "    sim_scores = sorted(sim_scores, key=lambda x: x[1], reverse=True)\n",
        "\n",
        "    sim_scores = sim_scores[1:top_k+1]\n",
        "    anime_indices = [i[0] for i in sim_scores]\n",
        "\n",
        "    return anime_df[['name', 'genre', 'type']].iloc[anime_indices].reset_index(drop=True)\n"
      ]
    },
    {
      "cell_type": "markdown",
      "metadata": {},
      "source": [
        "**Menjalankan Sistem Rekomendasi**"
      ]
    },
    {
      "cell_type": "code",
      "execution_count": 518,
      "metadata": {},
      "outputs": [
        {
          "name": "stdout",
          "output_type": "stream",
          "text": [
            "                               name  \\\n",
            "0  Monogatari Series: Second Season   \n",
            "1    Kizumonogatari I: Tekketsu-hen   \n",
            "2                    Vampire Holmes   \n",
            "3   Kizumonogatari II: Nekketsu-hen   \n",
            "4             Vampire Knight Guilty   \n",
            "\n",
            "                                               genre   type  \n",
            "0    Comedy  Mystery  Romance  Supernatural  Vampire     TV  \n",
            "1                     Mystery  Supernatural  Vampire  Movie  \n",
            "2             Comedy  Mystery  Supernatural  Vampire     TV  \n",
            "3             Action  Mystery  Supernatural  Vampire  Movie  \n",
            "4  Drama  Mystery  Romance  Shoujo  Supernatural ...     TV  \n"
          ]
        }
      ],
      "source": [
        "print(get_recommendations(\"Bakemonogatari\"))"
      ]
    },
    {
      "cell_type": "markdown",
      "metadata": {},
      "source": [
        "Disini sistem rekomendasi dicoba dengan anime bernama ```Bakemonogatari``` yang memiliki genre mystery, romance, supernatural, dan vampire. Sistem rekomendasi dapat memberikan output 5 anime yang mirip dengan ```Bakemonogatari``` dengan genre yang mirip, yaitu:\n",
        "\n",
        "- **Monogatari series: second season** dengan genre ```comedy```, ```mystery```, ```romance```, ```supernatural```, dan ```vampire```. \n",
        "- **Kizumonogatari I: Tekketsu-hen** dengan genre ```mystery```, ```supernatural```, dan ```vampire```. \n",
        "- **Vampire Holmes** dengan genre ```action```, ```mystery```,  ```supernatural```, dan ```vampire```. \n",
        "- **Kizumonogatari II: Nekketsu-hen** dengan genre ```comedy```, ```mystery```, ```romance```, ```supernatural```, dan ```vampire```.\n",
        "- **Vampire Knight Guilty** dengan genre ```drama```, ```mystery```, ```romance```, ```shoujo```, ```supernatural``` dan ```vampire```. "
      ]
    },
    {
      "cell_type": "markdown",
      "metadata": {},
      "source": [
        "# **Evaluasi Model Rekomendasi**"
      ]
    },
    {
      "cell_type": "markdown",
      "metadata": {},
      "source": [
        "Model akan diuji menggunakan metrik Precision@K. Precision mengukur seberapa banyak dari K item yang direkomendasikan benar-benar relevan dengan item input. "
      ]
    },
    {
      "cell_type": "code",
      "execution_count": 27,
      "metadata": {},
      "outputs": [],
      "source": [
        "def assess_recommendations(query_title, df, similarity_matrix, k=5):\n",
        "    if query_title not in indices:\n",
        "        return f\"Judul '{query_title}' tidak tersedia dalam dataset.\"\n",
        "\n",
        "    query_index = indices[query_title]\n",
        "    base_genre = df.loc[query_index, 'genre']\n",
        "    genre_set = set(base_genre.lower().split()) if pd.notna(base_genre) else set()\n",
        "\n",
        "    threshold = 2 if len(genre_set) >= 3 else 1\n",
        "\n",
        "    similarity_rank = sorted(\n",
        "        [(i, score) for i, score in enumerate(similarity_matrix[query_index]) if i != query_index],\n",
        "        key=lambda x: x[1],\n",
        "        reverse=True\n",
        "    )\n",
        "\n",
        "    top_matches = [i for i, _ in similarity_rank[:k]]\n",
        "    results_df = df.iloc[top_matches].copy()  # Copy untuk keamanan\n",
        "\n",
        "    relevancy_flags = []\n",
        "    for genre_string in results_df['genre']:\n",
        "        comparison_set = set(str(genre_string).lower().split()) if pd.notna(genre_string) else set()\n",
        "        overlap = genre_set.intersection(comparison_set)\n",
        "        relevancy_flags.append(len(overlap) >= threshold)\n",
        "\n",
        "    score = sum(relevancy_flags)\n",
        "    precision_score = score / k\n",
        "\n",
        "    relevant_titles = results_df.iloc[[i for i, rel in enumerate(relevancy_flags) if rel]]['name'].tolist()\n",
        "    irrelevant_titles = results_df.iloc[[i for i, rel in enumerate(relevancy_flags) if not rel]]['name'].tolist()\n",
        "\n",
        "    return {\n",
        "        'Title': query_title,\n",
        "        'Top K': k,\n",
        "        'Matches Found': k,\n",
        "        'Matches Relevant': score,\n",
        "        'Matches Irrelevant': k - score,\n",
        "        'Precision@K': precision_score,\n",
        "        'Relevant Titles': relevant_titles,\n",
        "        'Irrelevant Titles': irrelevant_titles\n",
        "    }\n"
      ]
    },
    {
      "cell_type": "code",
      "execution_count": 28,
      "metadata": {},
      "outputs": [
        {
          "name": "stdout",
          "output_type": "stream",
          "text": [
            "{'Title': 'Bakemonogatari', 'Top K': 5, 'Matches Found': 5, 'Matches Relevant': 5, 'Matches Irrelevant': 0, 'Precision@K': 1.0, 'Relevant Titles': ['Monogatari Series: Second Season', 'Kizumonogatari I: Tekketsu-hen', 'Vampire Holmes', 'Kizumonogatari II: Nekketsu-hen', 'Vampire Knight Guilty'], 'Irrelevant Titles': []}\n"
          ]
        }
      ],
      "source": [
        "result = assess_recommendations(\"Bakemonogatari\", anime_df, cosine_sim)\n",
        "print(result)\n"
      ]
    }
  ],
  "metadata": {
    "colab": {
      "provenance": []
    },
    "kernelspec": {
      "display_name": ".venv",
      "language": "python",
      "name": "python3"
    },
    "language_info": {
      "codemirror_mode": {
        "name": "ipython",
        "version": 3
      },
      "file_extension": ".py",
      "mimetype": "text/x-python",
      "name": "python",
      "nbconvert_exporter": "python",
      "pygments_lexer": "ipython3",
      "version": "3.10.7"
    }
  },
  "nbformat": 4,
  "nbformat_minor": 0
}
